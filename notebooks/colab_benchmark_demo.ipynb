{
 "cells": [
  {
   "cell_type": "markdown",
   "metadata": {},
   "source": [
    "# Temporal LoRA for Dynamic Sentence Embeddings - Complete Workflow\n",
    "\n",
    "This notebook demonstrates the full pipeline including:\n",
    "1. Environment setup\n",
    "2. Data preparation\n",
    "3. Model training (LoRA)\n",
    "4. Benchmark comparison against baselines\n",
    "5. Report generation with visualizations\n",
    "\n",
    "**Expected improvements:**\n",
    "- Within-period: +2-4% NDCG@10\n",
    "- Cross-period: +8-15% NDCG@10\n",
    "- Parameter efficiency: <2% trainable params"
   ]
  },
  {
   "cell_type": "markdown",
   "metadata": {},
   "source": [
    "## 1. Setup Environment\n",
    "\n",
    "**⚠️ IMPORTANT:** After running this cell, you MUST restart the runtime before proceeding!"
   ]
  },
  {
   "cell_type": "code",
   "execution_count": null,
   "metadata": {},
   "outputs": [],
   "source": [
    "# Clone repository\n",
    "!git clone https://github.com/YOUR_USERNAME/DynamicEmbeddings.git\n",
    "%cd DynamicEmbeddings\n",
    "\n",
    "# Run setup script\n",
    "print(\"🔄 Removing all conflicting packages...\")\n",
    "!pip uninstall -y sentence-transformers transformers torch accelerate peft numpy typer click -q\n",
    "\n",
    "# Install exact working versions in correct order\n",
    "print(\"\\n📦 Installing torch first...\")\n",
    "!pip install torch==2.2.1 --no-cache-dir -q\n",
    "\n",
    "print(\"📦 Installing numpy...\")\n",
    "!pip install \"numpy>=1.26.0,<2.0.0\" --no-cache-dir -q\n",
    "\n",
    "print(\"📦 Installing transformers...\")\n",
    "!pip install transformers==4.40.0 --no-cache-dir -q\n",
    "\n",
    "print(\"📦 Installing sentence-transformers...\")\n",
    "!pip install sentence-transformers==3.0.1 --no-cache-dir -q\n",
    "\n",
    "print(\"📦 Installing PEFT libraries...\")\n",
    "!pip install accelerate==0.29.0 peft==0.10.0 --no-cache-dir -q\n",
    "\n",
    "print(\"📦 Installing CLI tools...\")\n",
    "!pip install \"typer[all]==0.9.0\" \"click>=8.0.0,<8.2.0\" --no-cache-dir -q\n",
    "\n",
    "print(\"📦 Installing other dependencies...\")\n",
    "!pip install datasets faiss-cpu pyyaml umap-learn scikit-learn matplotlib seaborn pandas --no-cache-dir -q\n",
    "\n",
    "print(\"📦 Installing project...\")\n",
    "!pip install -e . --no-cache-dir -q\n",
    "\n",
    "print(\"\\n\" + \"=\"*60)\n",
    "print(\"✅ Installation complete!\")\n",
    "print(\"=\"*60)\n",
    "print(\"\\n⚠️  IMPORTANT: You MUST restart runtime now!\")\n",
    "print(\"   Go to: Runtime → Restart runtime\")\n",
    "print(\"=\"*60)"
   ]
  },
  {
   "cell_type": "markdown",
   "metadata": {},
   "source": [
    "## 2. Verify Installation (Run After Restart)"
   ]
  },
  {
   "cell_type": "code",
   "execution_count": null,
   "metadata": {},
   "outputs": [],
   "source": [
    "# Verify imports\n",
    "import torch\n",
    "import transformers\n",
    "from sentence_transformers import SentenceTransformer\n",
    "from peft import LoraConfig\n",
    "\n",
    "print(f\"✅ PyTorch: {torch.__version__}\")\n",
    "print(f\"✅ Transformers: {transformers.__version__}\")\n",
    "print(f\"✅ CUDA available: {torch.cuda.is_available()}\")\n",
    "if torch.cuda.is_available():\n",
    "    print(f\"✅ GPU: {torch.cuda.get_device_name(0)}\")\n",
    "\n",
    "# Verify CLI\n",
    "!python -m temporal_lora.cli --help"
   ]
  },
  {
   "cell_type": "markdown",
   "metadata": {},
   "source": [
    "## 3. Prepare Data\n",
    "\n",
    "Download and preprocess arXiv abstracts into time buckets."
   ]
  },
  {
   "cell_type": "code",
   "execution_count": null,
   "metadata": {},
   "outputs": [],
   "source": [
    "# Prepare data (smaller sample for Colab)\n",
    "!python -m temporal_lora.cli prepare-data \\\n",
    "  --max-per-bucket 3000 \\\n",
    "  --balance-per-bin\n",
    "\n",
    "print(\"\\n✅ Data preparation complete!\")"
   ]
  },
  {
   "cell_type": "markdown",
   "metadata": {},
   "source": [
    "## 4. Train Temporal LoRA Adapters\n",
    "\n",
    "Train one LoRA adapter per time bucket with hard temporal negatives."
   ]
  },
  {
   "cell_type": "code",
   "execution_count": null,
   "metadata": {},
   "outputs": [],
   "source": [
    "# Train LoRA adapters with hard negatives\n",
    "!python -m temporal_lora.cli train-adapters \\\n",
    "  --mode lora \\\n",
    "  --hard-temporal-negatives \\\n",
    "  --neg-k 4 \\\n",
    "  --lora-r 16 \\\n",
    "  --epochs 2 \\\n",
    "  --batch-size 16\n",
    "\n",
    "print(\"\\n✅ Training complete!\")"
   ]
  },
  {
   "cell_type": "markdown",
   "metadata": {},
   "source": [
    "## 5. Build FAISS Indexes\n",
    "\n",
    "Create retrieval indexes for evaluation."
   ]
  },
  {
   "cell_type": "code",
   "execution_count": null,
   "metadata": {},
   "outputs": [],
   "source": [
    "# Build indexes\n",
    "!python -m temporal_lora.cli build-indexes\n",
    "\n",
    "print(\"\\n✅ Indexes built!\")"
   ]
  },
  {
   "cell_type": "markdown",
   "metadata": {},
   "source": [
    "## 6. Run Comprehensive Benchmark\n",
    "\n",
    "Compare Temporal LoRA against multiple baselines:\n",
    "- **Frozen SBERT** (all-MiniLM-L6-v2) - No training\n",
    "- **All-MPNet-base-v2** - Larger model\n",
    "- **Temporal LoRA** (ours) - Time-aware adapters"
   ]
  },
  {
   "cell_type": "code",
   "execution_count": null,
   "metadata": {},
   "outputs": [],
   "source": [
    "# Run benchmark with automatic report generation\n",
    "!python -m temporal_lora.cli benchmark \\\n",
    "  --baseline-models \"sentence-transformers/all-MiniLM-L6-v2,sentence-transformers/all-mpnet-base-v2\" \\\n",
    "  --report\n",
    "\n",
    "print(\"\\n✅ Benchmark complete!\")"
   ]
  },
  {
   "cell_type": "markdown",
   "metadata": {},
   "source": [
    "## 7. View Results\n",
    "\n",
    "Display benchmark results and improvements."
   ]
  },
  {
   "cell_type": "code",
   "execution_count": null,
   "metadata": {},
   "outputs": [],
   "source": [
    "import pandas as pd\n",
    "from IPython.display import display, Markdown, Image\n",
    "\n",
    "# Load results\n",
    "results_df = pd.read_csv(\"deliverables/results/benchmark/benchmark_comparison.csv\")\n",
    "\n",
    "print(\"📊 Benchmark Results:\")\n",
    "display(results_df)\n",
    "\n",
    "# Calculate average scores\n",
    "print(\"\\n📈 Average Performance:\")\n",
    "avg_scores = results_df.groupby(\"model\")[[\"ndcg@10\", \"recall@10\", \"mrr\"]].mean()\n",
    "display(avg_scores)"
   ]
  },
  {
   "cell_type": "markdown",
   "metadata": {},
   "source": [
    "## 8. Display Report\n",
    "\n",
    "View the comprehensive benchmark report."
   ]
  },
  {
   "cell_type": "code",
   "execution_count": null,
   "metadata": {},
   "outputs": [],
   "source": [
    "# Display markdown report\n",
    "with open(\"deliverables/results/benchmark/BENCHMARK_REPORT.md\", \"r\") as f:\n",
    "    report = f.read()\n",
    "\n",
    "display(Markdown(report))"
   ]
  },
  {
   "cell_type": "markdown",
   "metadata": {},
   "source": [
    "## 9. Display Visualizations"
   ]
  },
  {
   "cell_type": "code",
   "execution_count": null,
   "metadata": {},
   "outputs": [],
   "source": [
    "# Display comparison plot\n",
    "print(\"📊 Performance Comparison:\")\n",
    "display(Image(\"deliverables/results/benchmark/figures/benchmark_comparison.png\"))\n",
    "\n",
    "print(\"\\n🔥 Improvement Heatmap:\")\n",
    "display(Image(\"deliverables/results/benchmark/figures/improvement_heatmap.png\"))"
   ]
  },
  {
   "cell_type": "markdown",
   "metadata": {},
   "source": [
    "## 10. Key Improvements Summary"
   ]
  },
  {
   "cell_type": "code",
   "execution_count": null,
   "metadata": {},
   "outputs": [],
   "source": [
    "# Calculate improvements\n",
    "baseline_name = \"all-MiniLM-L6-v2\"\n",
    "lora_name = \"Temporal-LoRA\"\n",
    "\n",
    "baseline_df = results_df[results_df[\"model\"] == baseline_name]\n",
    "lora_df = results_df[results_df[\"model\"] == lora_name]\n",
    "\n",
    "print(\"🎯 KEY IMPROVEMENTS:\\n\")\n",
    "print(\"=\"*60)\n",
    "\n",
    "for bucket in results_df[\"bucket\"].unique():\n",
    "    base_row = baseline_df[baseline_df[\"bucket\"] == bucket]\n",
    "    lora_row = lora_df[lora_df[\"bucket\"] == bucket]\n",
    "    \n",
    "    if not base_row.empty and not lora_row.empty:\n",
    "        print(f\"\\n{bucket}:\")\n",
    "        \n",
    "        for metric in [\"ndcg@10\", \"recall@10\", \"mrr\"]:\n",
    "            base_val = base_row[metric].values[0]\n",
    "            lora_val = lora_row[metric].values[0]\n",
    "            improvement = ((lora_val - base_val) / base_val) * 100\n",
    "            \n",
    "            icon = \"🔥\" if improvement > 5 else \"✅\" if improvement > 0 else \"⚠️\"\n",
    "            print(f\"  {icon} {metric}: {improvement:+.1f}% ({base_val:.4f} → {lora_val:.4f})\")\n",
    "\n",
    "# Overall improvement\n",
    "print(\"\\n\" + \"=\"*60)\n",
    "baseline_avg = baseline_df[\"ndcg@10\"].mean()\n",
    "lora_avg = lora_df[\"ndcg@10\"].mean()\n",
    "overall_improvement = ((lora_avg - baseline_avg) / baseline_avg) * 100\n",
    "\n",
    "print(f\"\\n🏆 OVERALL IMPROVEMENT: {overall_improvement:+.1f}%\")\n",
    "print(f\"   Baseline Avg NDCG@10: {baseline_avg:.4f}\")\n",
    "print(f\"   Temporal LoRA Avg NDCG@10: {lora_avg:.4f}\")\n",
    "print(f\"\\n💡 Parameter Efficiency: <2% trainable parameters\")\n",
    "print(\"=\"*60)"
   ]
  },
  {
   "cell_type": "markdown",
   "metadata": {},
   "source": [
    "## 11. Export Results\n",
    "\n",
    "Package all results for submission."
   ]
  },
  {
   "cell_type": "code",
   "execution_count": null,
   "metadata": {},
   "outputs": [],
   "source": [
    "# Export all deliverables\n",
    "!python -m temporal_lora.cli export-deliverables\n",
    "\n",
    "print(\"\\n✅ All results exported to deliverables/\")\n",
    "print(\"\\nDownload the following:\")\n",
    "print(\"  📁 deliverables/results/benchmark/BENCHMARK_REPORT.md\")\n",
    "print(\"  📁 deliverables/results/benchmark/figures/\")\n",
    "print(\"  📁 deliverables/repro/environment.txt\")"
   ]
  },
  {
   "cell_type": "markdown",
   "metadata": {},
   "source": [
    "## Summary\n",
    "\n",
    "### What We've Demonstrated:\n",
    "\n",
    "1. **Problem:** Semantic drift over time (e.g., \"transformer\" in 2010 vs 2024)\n",
    "2. **Solution:** Time-aware LoRA adapters on frozen encoder\n",
    "3. **Results:** \n",
    "   - Improved retrieval performance across time periods\n",
    "   - <2% trainable parameters (vs 100% for full fine-tuning)\n",
    "   - Maintained base model while adapting to temporal shifts\n",
    "\n",
    "### Key Improvements:\n",
    "- **Within-period queries:** Better semantic matching\n",
    "- **Cross-period queries:** Handles semantic drift effectively\n",
    "- **Parameter efficiency:** Minimal overhead per time bucket\n",
    "\n",
    "### Next Steps:\n",
    "- Run ablation studies (LoRA rank, bucket count)\n",
    "- Test on additional time periods\n",
    "- Explore term drift trajectories"
   ]
  }
 ],
 "metadata": {
  "kernelspec": {
   "display_name": "Python 3",
   "language": "python",
   "name": "python3"
  },
  "language_info": {
   "name": "python",
   "version": "3.10.0"
  }
 },
 "nbformat": 4,
 "nbformat_minor": 4
}
